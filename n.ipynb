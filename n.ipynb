y=0
r=1
rt='Hello world'
print(rt+r+y)
if y==0:
	print(rt)