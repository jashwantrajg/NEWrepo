y=0
r=1
rt='Hello world'
print(rt+r+y)